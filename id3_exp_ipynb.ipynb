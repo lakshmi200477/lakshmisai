{
  "nbformat": 4,
  "nbformat_minor": 0,
  "metadata": {
    "colab": {
      "provenance": [],
      "authorship_tag": "ABX9TyOUKsuVJ78lIzh9gxDRL/X2",
      "include_colab_link": true
    },
    "kernelspec": {
      "name": "python3",
      "display_name": "Python 3"
    },
    "language_info": {
      "name": "python"
    }
  },
  "cells": [
    {
      "cell_type": "markdown",
      "metadata": {
        "id": "view-in-github",
        "colab_type": "text"
      },
      "source": [
        "<a href=\"https://colab.research.google.com/github/lakshmi200477/lakshmisai/blob/master/id3_exp_ipynb.ipynb\" target=\"_parent\"><img src=\"https://colab.research.google.com/assets/colab-badge.svg\" alt=\"Open In Colab\"/></a>"
      ]
    },
    {
      "cell_type": "code",
      "execution_count": 8,
      "metadata": {
        "colab": {
          "base_uri": "https://localhost:8080/"
        },
        "id": "uda7tXIbF7qd",
        "outputId": "5adc23a1-dc4b-4b5d-bede-a32cf24f5e75"
      },
      "outputs": [
        {
          "output_type": "stream",
          "name": "stdout",
          "text": [
            "Decision Tree Structure:\n",
            " |--- Sky <= 0.50\n",
            "|   |--- class: No\n",
            "|--- Sky >  0.50\n",
            "|   |--- class: Yes\n",
            "\n",
            "Predicted Class for New Sample: Yes\n"
          ]
        },
        {
          "output_type": "stream",
          "name": "stderr",
          "text": [
            "/usr/local/lib/python3.11/dist-packages/sklearn/utils/validation.py:2739: UserWarning: X does not have valid feature names, but DecisionTreeClassifier was fitted with feature names\n",
            "  warnings.warn(\n"
          ]
        }
      ],
      "source": [
        "import pandas as pd\n",
        "from sklearn.tree import DecisionTreeClassifier, export_text\n",
        "\n",
        "def load_data(filename):\n",
        "    \"\"\"Load dataset from CSV.\"\"\"\n",
        "    return pd.read_csv(filename)\n",
        "\n",
        "def build_decision_tree(data):\n",
        "    \"\"\"Builds and returns a decision tree model using the ID3 algorithm.\"\"\"\n",
        "    # Extract features and target\n",
        "    X = data.iloc[:, :-1]  # Feature columns (all columns except the last one)\n",
        "    y = data.iloc[:, -1]   # Target column (the last column)\n",
        "\n",
        "    # Initialize and train the decision tree classifier\n",
        "    clf = DecisionTreeClassifier(criterion=\"entropy\")  # ID3 uses entropy\n",
        "    clf.fit(X, y)\n",
        "\n",
        "    return clf\n",
        "\n",
        "# Load dataset\n",
        "filename = \"decision_tree_data.csv\"  # Adjust the path if needed\n",
        "data = load_data(filename)\n",
        "\n",
        "# Train the decision tree model\n",
        "model = build_decision_tree(data)\n",
        "\n",
        "# Display the decision tree structure\n",
        "tree_rules = export_text(model, feature_names=list(data.columns[:-1]))\n",
        "print(\"Decision Tree Structure:\\n\", tree_rules)\n",
        "\n",
        "# Classify a new sample\n",
        "new_sample = [[1, 1, 0, 1, 1, 0]]  # Modify according to dataset features\n",
        "prediction = model.predict(new_sample)\n",
        "print(\"Predicted Class for New Sample:\", prediction[0])\n"
      ]
    }
  ]
}